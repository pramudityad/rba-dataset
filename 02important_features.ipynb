{
 "cells": [
  {
   "cell_type": "code",
   "execution_count": 1,
   "id": "d0662216-0a89-44f7-ab06-edebef7f1880",
   "metadata": {},
   "outputs": [],
   "source": [
    "import pandas as pd\n",
    "df = pd.read_csv('rba-dataset-renamed-desktop.csv')\n",
    "df = df.head(30000)"
   ]
  },
  {
   "cell_type": "code",
   "execution_count": 2,
   "id": "2c657479-7bdb-4e25-8608-ca61917880a9",
   "metadata": {},
   "outputs": [
    {
     "name": "stdout",
     "output_type": "stream",
     "text": [
      "is_login_success\n",
      "Percentage of True values: 67.35%\n",
      "Percentage of False values: 32.65%\n",
      "is_attack_ip\n",
      "Percentage of True values: 3.09%\n",
      "Percentage of False values: 96.91%\n",
      "is_account_takeover\n",
      "Percentage of True values: 0.01%\n",
      "Percentage of False values: 99.99%\n"
     ]
    }
   ],
   "source": [
    "# calculate the percentage of True and False values in bolean char'\n",
    "value_counts_1 = df['is_login_success'].value_counts(normalize=True)\n",
    "is_login_success_true = value_counts_1[True] * 100\n",
    "is_login_success_false = value_counts_1[False] * 100\n",
    "print(\"is_login_success\")\n",
    "print(f\"Percentage of True values: {is_login_success_true:.2f}%\")\n",
    "print(f\"Percentage of False values: {is_login_success_false:.2f}%\")\n",
    "\n",
    "value_counts_2 = df['is_attack_ip'].value_counts(normalize=True)\n",
    "is_attack_ip_true  = value_counts_2[True] * 100\n",
    "is_attack_ip_false = value_counts_2[False] * 100\n",
    "print(\"is_attack_ip\")\n",
    "print(f\"Percentage of True values: {is_attack_ip_true:.2f}%\")\n",
    "print(f\"Percentage of False values: {is_attack_ip_false:.2f}%\")\n",
    "\n",
    "value_counts_3 = df['is_account_takeover'].value_counts(normalize=True)\n",
    "is_account_takeover_true  = value_counts_3[True] * 100\n",
    "is_account_takeover_false = value_counts_3[False] * 100\n",
    "print(\"is_account_takeover\")\n",
    "print(f\"Percentage of True values: {is_account_takeover_true:.2f}%\")\n",
    "print(f\"Percentage of False values: {is_account_takeover_false:.2f}%\")"
   ]
  },
  {
   "cell_type": "code",
   "execution_count": 3,
   "id": "d667ab03-97c7-45e6-80f7-224a17b984c8",
   "metadata": {},
   "outputs": [],
   "source": [
    "### drop un-used column\n",
    "df.drop(['round_trip', 'index', 'is_attack_ip', 'is_account_takeover', 'user_id', 'token', 'device_type', 'length'], axis=1, inplace=True)"
   ]
  },
  {
   "cell_type": "code",
   "execution_count": 4,
   "id": "ec96d962-54c3-4207-a19c-d8504298bd20",
   "metadata": {},
   "outputs": [
    {
     "name": "stdout",
     "output_type": "stream",
     "text": [
      "Dimensions : 30000 rows, 10 columns\n",
      "Total NA Values : 21 \n",
      "                           Column Name  Data Type      #Distinct  NA Values\n",
      "                       login_timestamp     object        30000          0\n",
      "                            ip_address     object        17387          0\n",
      "                               country     object           75          0\n",
      "                                region     object          273         14\n",
      "                                  city     object         1414          7\n",
      "                                   asn      int64          792          0\n",
      "                     user_agent_string     object          637          0\n",
      "                               browser     object          167          0\n",
      "                             os_detail     object           61          0\n",
      "                      is_login_success       bool            2          0\n"
     ]
    }
   ],
   "source": [
    "def initial_eda(df):\n",
    "    if isinstance(df, pd.DataFrame):\n",
    "        total_na = df.isna().sum().sum()\n",
    "        print(\"Dimensions : %d rows, %d columns\" % (df.shape[0], df.shape[1]))\n",
    "        print(\"Total NA Values : %d \" % (total_na))\n",
    "        print(\"%38s %10s     %10s %10s\" % (\"Column Name\", \"Data Type\", \"#Distinct\", \"NA Values\"))\n",
    "        col_name = df.columns\n",
    "        dtyp = df.dtypes\n",
    "        uniq = df.nunique()\n",
    "        na_val = df.isna().sum()\n",
    "        for i in range(len(df.columns)):\n",
    "            print(\"%38s %10s   %10s %10s\" % (col_name[i], dtyp[i], uniq[i], na_val[i]))\n",
    "        \n",
    "    else:\n",
    "        print(\"Expect a DataFrame but got a %15s\" % (type(df)))\n",
    "\n",
    "\n",
    "initial_eda(df)"
   ]
  },
  {
   "cell_type": "code",
   "execution_count": 5,
   "id": "9a092c5c-ec0a-4c3b-bb29-314eec7079bc",
   "metadata": {},
   "outputs": [
    {
     "name": "stdout",
     "output_type": "stream",
     "text": [
      "There are 8 categorical variables\n",
      "\n",
      "The categorical variables are :\n",
      "\n",
      " ['login_timestamp', 'ip_address', 'country', 'region', 'city', 'user_agent_string', 'browser', 'os_detail']\n"
     ]
    }
   ],
   "source": [
    "categorical = [var for var in df.columns if df[var].dtype=='O']\n",
    "print('There are {} categorical variables\\n'.format(len(categorical)))\n",
    "print('The categorical variables are :\\n\\n', categorical)\n"
   ]
  },
  {
   "cell_type": "code",
   "execution_count": 6,
   "id": "f54f89fc-27dc-48c8-9292-ed6e75a74ea5",
   "metadata": {},
   "outputs": [
    {
     "name": "stdout",
     "output_type": "stream",
     "text": [
      "There are 2 numerical variables\n",
      "\n",
      "The numerical variables are :\n",
      "\n",
      " ['asn', 'is_login_success']\n"
     ]
    }
   ],
   "source": [
    "# find numerical variables\n",
    "numerical = [var for var in df.columns if df[var].dtype!='O']\n",
    "print('There are {} numerical variables\\n'.format(len(numerical)))\n",
    "print('The numerical variables are :\\n\\n', numerical)\n"
   ]
  },
  {
   "cell_type": "code",
   "execution_count": 7,
   "id": "17ceb46e-f155-4810-9708-511ad83cd932",
   "metadata": {},
   "outputs": [],
   "source": [
    "from sklearn.model_selection import train_test_split\n",
    "\n",
    "# X is the input variable\n",
    "# Y is the output variable\n",
    "\n",
    "X = df.drop(['is_login_success'], axis=1)\n",
    "y = df['is_login_success']\n",
    "\n",
    "X_train, X_test, y_train, y_test = train_test_split(X, y, test_size = 0.3, random_state=42)\n",
    "\n",
    "# Save the training and testing sets to new CSV files\n",
    "train_data = pd.concat([X_train, y_train], axis=1)\n",
    "test_data = pd.concat([X_test, y_test], axis=1)\n",
    "\n",
    "test_data.to_csv('test_data.csv', index=False)\n",
    "train_data.to_csv('train_data.csv', index=False)"
   ]
  },
  {
   "cell_type": "code",
   "execution_count": 8,
   "id": "e3aaacc3-2505-4ff3-b43e-db59b3886d8a",
   "metadata": {},
   "outputs": [
    {
     "data": {
      "text/plain": [
       "(21000, 9)"
      ]
     },
     "execution_count": 8,
     "metadata": {},
     "output_type": "execute_result"
    }
   ],
   "source": [
    "X_train.shape"
   ]
  },
  {
   "cell_type": "code",
   "execution_count": 9,
   "id": "50ded98d-4569-47a1-ba36-90f00a612833",
   "metadata": {},
   "outputs": [
    {
     "data": {
      "text/html": [
       "<div>\n",
       "<style scoped>\n",
       "    .dataframe tbody tr th:only-of-type {\n",
       "        vertical-align: middle;\n",
       "    }\n",
       "\n",
       "    .dataframe tbody tr th {\n",
       "        vertical-align: top;\n",
       "    }\n",
       "\n",
       "    .dataframe thead th {\n",
       "        text-align: right;\n",
       "    }\n",
       "</style>\n",
       "<table border=\"1\" class=\"dataframe\">\n",
       "  <thead>\n",
       "    <tr style=\"text-align: right;\">\n",
       "      <th></th>\n",
       "      <th>login_timestamp_1</th>\n",
       "      <th>login_timestamp_2</th>\n",
       "      <th>login_timestamp_3</th>\n",
       "      <th>login_timestamp_4</th>\n",
       "      <th>login_timestamp_5</th>\n",
       "      <th>login_timestamp_6</th>\n",
       "      <th>login_timestamp_7</th>\n",
       "      <th>login_timestamp_8</th>\n",
       "      <th>login_timestamp_9</th>\n",
       "      <th>login_timestamp_10</th>\n",
       "      <th>...</th>\n",
       "      <th>os_detail_48</th>\n",
       "      <th>os_detail_49</th>\n",
       "      <th>os_detail_50</th>\n",
       "      <th>os_detail_51</th>\n",
       "      <th>os_detail_52</th>\n",
       "      <th>os_detail_53</th>\n",
       "      <th>os_detail_54</th>\n",
       "      <th>os_detail_55</th>\n",
       "      <th>os_detail_56</th>\n",
       "      <th>os_detail_57</th>\n",
       "    </tr>\n",
       "  </thead>\n",
       "  <tbody>\n",
       "    <tr>\n",
       "      <th>28465</th>\n",
       "      <td>1</td>\n",
       "      <td>0</td>\n",
       "      <td>0</td>\n",
       "      <td>0</td>\n",
       "      <td>0</td>\n",
       "      <td>0</td>\n",
       "      <td>0</td>\n",
       "      <td>0</td>\n",
       "      <td>0</td>\n",
       "      <td>0</td>\n",
       "      <td>...</td>\n",
       "      <td>0</td>\n",
       "      <td>0</td>\n",
       "      <td>0</td>\n",
       "      <td>0</td>\n",
       "      <td>0</td>\n",
       "      <td>0</td>\n",
       "      <td>0</td>\n",
       "      <td>0</td>\n",
       "      <td>0</td>\n",
       "      <td>0</td>\n",
       "    </tr>\n",
       "    <tr>\n",
       "      <th>27622</th>\n",
       "      <td>0</td>\n",
       "      <td>1</td>\n",
       "      <td>0</td>\n",
       "      <td>0</td>\n",
       "      <td>0</td>\n",
       "      <td>0</td>\n",
       "      <td>0</td>\n",
       "      <td>0</td>\n",
       "      <td>0</td>\n",
       "      <td>0</td>\n",
       "      <td>...</td>\n",
       "      <td>0</td>\n",
       "      <td>0</td>\n",
       "      <td>0</td>\n",
       "      <td>0</td>\n",
       "      <td>0</td>\n",
       "      <td>0</td>\n",
       "      <td>0</td>\n",
       "      <td>0</td>\n",
       "      <td>0</td>\n",
       "      <td>0</td>\n",
       "    </tr>\n",
       "    <tr>\n",
       "      <th>28376</th>\n",
       "      <td>0</td>\n",
       "      <td>0</td>\n",
       "      <td>1</td>\n",
       "      <td>0</td>\n",
       "      <td>0</td>\n",
       "      <td>0</td>\n",
       "      <td>0</td>\n",
       "      <td>0</td>\n",
       "      <td>0</td>\n",
       "      <td>0</td>\n",
       "      <td>...</td>\n",
       "      <td>0</td>\n",
       "      <td>0</td>\n",
       "      <td>0</td>\n",
       "      <td>0</td>\n",
       "      <td>0</td>\n",
       "      <td>0</td>\n",
       "      <td>0</td>\n",
       "      <td>0</td>\n",
       "      <td>0</td>\n",
       "      <td>0</td>\n",
       "    </tr>\n",
       "    <tr>\n",
       "      <th>10917</th>\n",
       "      <td>0</td>\n",
       "      <td>0</td>\n",
       "      <td>0</td>\n",
       "      <td>1</td>\n",
       "      <td>0</td>\n",
       "      <td>0</td>\n",
       "      <td>0</td>\n",
       "      <td>0</td>\n",
       "      <td>0</td>\n",
       "      <td>0</td>\n",
       "      <td>...</td>\n",
       "      <td>0</td>\n",
       "      <td>0</td>\n",
       "      <td>0</td>\n",
       "      <td>0</td>\n",
       "      <td>0</td>\n",
       "      <td>0</td>\n",
       "      <td>0</td>\n",
       "      <td>0</td>\n",
       "      <td>0</td>\n",
       "      <td>0</td>\n",
       "    </tr>\n",
       "    <tr>\n",
       "      <th>27234</th>\n",
       "      <td>0</td>\n",
       "      <td>0</td>\n",
       "      <td>0</td>\n",
       "      <td>0</td>\n",
       "      <td>1</td>\n",
       "      <td>0</td>\n",
       "      <td>0</td>\n",
       "      <td>0</td>\n",
       "      <td>0</td>\n",
       "      <td>0</td>\n",
       "      <td>...</td>\n",
       "      <td>0</td>\n",
       "      <td>0</td>\n",
       "      <td>0</td>\n",
       "      <td>0</td>\n",
       "      <td>0</td>\n",
       "      <td>0</td>\n",
       "      <td>0</td>\n",
       "      <td>0</td>\n",
       "      <td>0</td>\n",
       "      <td>0</td>\n",
       "    </tr>\n",
       "  </tbody>\n",
       "</table>\n",
       "<p>5 rows × 36637 columns</p>\n",
       "</div>"
      ],
      "text/plain": [
       "       login_timestamp_1  login_timestamp_2  login_timestamp_3  \\\n",
       "28465                  1                  0                  0   \n",
       "27622                  0                  1                  0   \n",
       "28376                  0                  0                  1   \n",
       "10917                  0                  0                  0   \n",
       "27234                  0                  0                  0   \n",
       "\n",
       "       login_timestamp_4  login_timestamp_5  login_timestamp_6  \\\n",
       "28465                  0                  0                  0   \n",
       "27622                  0                  0                  0   \n",
       "28376                  0                  0                  0   \n",
       "10917                  1                  0                  0   \n",
       "27234                  0                  1                  0   \n",
       "\n",
       "       login_timestamp_7  login_timestamp_8  login_timestamp_9  \\\n",
       "28465                  0                  0                  0   \n",
       "27622                  0                  0                  0   \n",
       "28376                  0                  0                  0   \n",
       "10917                  0                  0                  0   \n",
       "27234                  0                  0                  0   \n",
       "\n",
       "       login_timestamp_10  ...  os_detail_48  os_detail_49  os_detail_50  \\\n",
       "28465                   0  ...             0             0             0   \n",
       "27622                   0  ...             0             0             0   \n",
       "28376                   0  ...             0             0             0   \n",
       "10917                   0  ...             0             0             0   \n",
       "27234                   0  ...             0             0             0   \n",
       "\n",
       "       os_detail_51  os_detail_52  os_detail_53  os_detail_54  os_detail_55  \\\n",
       "28465             0             0             0             0             0   \n",
       "27622             0             0             0             0             0   \n",
       "28376             0             0             0             0             0   \n",
       "10917             0             0             0             0             0   \n",
       "27234             0             0             0             0             0   \n",
       "\n",
       "       os_detail_56  os_detail_57  \n",
       "28465             0             0  \n",
       "27622             0             0  \n",
       "28376             0             0  \n",
       "10917             0             0  \n",
       "27234             0             0  \n",
       "\n",
       "[5 rows x 36637 columns]"
      ]
     },
     "execution_count": 9,
     "metadata": {},
     "output_type": "execute_result"
    }
   ],
   "source": [
    "import category_encoders as ce\n",
    "\n",
    "# One-hot encode the categorical features\n",
    "# encode categorical variables with ordinal encoding\n",
    "# see def preprocess_data(df) above\n",
    "encoder = ce.OneHotEncoder(cols= ['login_timestamp', 'ip_address', 'country', 'region', 'city', 'user_agent_string', 'browser', 'os_detail'])\n",
    "X_train = encoder.fit_transform(X_train)\n",
    "\n",
    "X_test = encoder.transform(X_test)\n",
    "X_train.head()"
   ]
  },
  {
   "cell_type": "code",
   "execution_count": 10,
   "id": "ea8579bc-b325-43b6-9da8-bb93ef134fc1",
   "metadata": {},
   "outputs": [],
   "source": [
    "#X_test = pd.get_dummies(df, columns=['login_timestamp', 'ip_address', 'country', 'region', 'city', 'user_agent_string', 'browser', 'os_detail'], prefix=['login_timestamp', 'ip_address', 'country', 'region', 'city', 'user_agent_string', 'browser', 'os_detail'])\n",
    "#X_test.head()"
   ]
  },
  {
   "cell_type": "code",
   "execution_count": 11,
   "id": "cf6caa4b-eb87-4b32-9db6-8080c2771c59",
   "metadata": {},
   "outputs": [
    {
     "name": "stdout",
     "output_type": "stream",
     "text": [
      "Accuracy: 0.7296666666666667\n"
     ]
    }
   ],
   "source": [
    "### Random Forest Classifier model with default parameters\n",
    "# import Random Forest classifier\n",
    "from sklearn.ensemble import RandomForestClassifier\n",
    "from sklearn.metrics import accuracy_score\n",
    "\n",
    "# instantiate the classifier \n",
    "rfc = RandomForestClassifier(random_state=0)\n",
    "\n",
    "# fit the model\n",
    "rfc.fit(X_train, y_train)\n",
    "\n",
    "# Predict the Test set results\n",
    "y_pred = rfc.predict(X_test)\n",
    "\n",
    "accuracy = accuracy_score(y_test, y_pred)\n",
    "print('Accuracy:', accuracy)"
   ]
  },
  {
   "cell_type": "code",
   "execution_count": 12,
   "id": "2237d108-c094-494e-9f0b-6ee2b2407cff",
   "metadata": {},
   "outputs": [],
   "source": [
    "### Gini importance \n",
    "# create the classifier with n_estimators = default\n",
    "clf = RandomForestClassifier(random_state=0)\n",
    "\n",
    "# fit the model to the training set\n",
    "clf.fit(X_train, y_train)\n",
    "\n",
    "# view the feature scores\n",
    "feature_scores = pd.Series(clf.feature_importances_, index=X_train.columns).sort_values(ascending=False)"
   ]
  },
  {
   "cell_type": "code",
   "execution_count": 13,
   "id": "2b990eee-66a7-4723-8d16-2e301fcf7843",
   "metadata": {},
   "outputs": [
    {
     "data": {
      "text/plain": [
       "asn                     0.017551\n",
       "country_2               0.009943\n",
       "country_4               0.004708\n",
       "country_6               0.003670\n",
       "ip_address_23           0.003618\n",
       "os_detail_1             0.003317\n",
       "browser_1               0.002975\n",
       "os_detail_16            0.002832\n",
       "user_agent_string_49    0.002508\n",
       "browser_2               0.002213\n",
       "dtype: float64"
      ]
     },
     "execution_count": 13,
     "metadata": {},
     "output_type": "execute_result"
    }
   ],
   "source": [
    "# Top 10 important features\n",
    "feature_scores.head(10)"
   ]
  },
  {
   "cell_type": "code",
   "execution_count": 16,
   "id": "b431ad30-fd8e-4a6a-8466-5430f0a5204a",
   "metadata": {},
   "outputs": [
    {
     "ename": "ValueError",
     "evalue": "The number of FixedLocator locations (10), usually from a call to set_ticks, does not match the number of ticklabels (36637).",
     "output_type": "error",
     "traceback": [
      "\u001b[0;31m---------------------------------------------------------------------------\u001b[0m",
      "\u001b[0;31mValueError\u001b[0m                                Traceback (most recent call last)",
      "\u001b[1;32m/Users/damar.pramuditya/Tesis/rba-dataset/02important_features.ipynb Cell 14\u001b[0m line \u001b[0;36m<cell line: 10>\u001b[0;34m()\u001b[0m\n\u001b[1;32m      <a href='vscode-notebook-cell:/Users/damar.pramuditya/Tesis/rba-dataset/02important_features.ipynb#X16sZmlsZQ%3D%3D?line=7'>8</a>\u001b[0m ax \u001b[39m=\u001b[39m sns\u001b[39m.\u001b[39mbarplot(x\u001b[39m=\u001b[39mfeature_scores\u001b[39m.\u001b[39mhead(\u001b[39m10\u001b[39m), y\u001b[39m=\u001b[39mfeature_scores\u001b[39m.\u001b[39mhead(\u001b[39m10\u001b[39m)\u001b[39m.\u001b[39mindex, data\u001b[39m=\u001b[39mdf)\n\u001b[1;32m      <a href='vscode-notebook-cell:/Users/damar.pramuditya/Tesis/rba-dataset/02important_features.ipynb#X16sZmlsZQ%3D%3D?line=8'>9</a>\u001b[0m ax\u001b[39m.\u001b[39mset_title(\u001b[39m\"\u001b[39m\u001b[39mVisualize feature scores of the features\u001b[39m\u001b[39m\"\u001b[39m)\n\u001b[0;32m---> <a href='vscode-notebook-cell:/Users/damar.pramuditya/Tesis/rba-dataset/02important_features.ipynb#X16sZmlsZQ%3D%3D?line=9'>10</a>\u001b[0m ax\u001b[39m.\u001b[39;49mset_yticklabels(feature_scores\u001b[39m.\u001b[39;49mindex)\n\u001b[1;32m     <a href='vscode-notebook-cell:/Users/damar.pramuditya/Tesis/rba-dataset/02important_features.ipynb#X16sZmlsZQ%3D%3D?line=10'>11</a>\u001b[0m ax\u001b[39m.\u001b[39mset_xlabel(\u001b[39m\"\u001b[39m\u001b[39mFeature importance score\u001b[39m\u001b[39m\"\u001b[39m)\n\u001b[1;32m     <a href='vscode-notebook-cell:/Users/damar.pramuditya/Tesis/rba-dataset/02important_features.ipynb#X16sZmlsZQ%3D%3D?line=11'>12</a>\u001b[0m ax\u001b[39m.\u001b[39mset_ylabel(\u001b[39m\"\u001b[39m\u001b[39mFeatures\u001b[39m\u001b[39m\"\u001b[39m)\n",
      "File \u001b[0;32m~/.pyenv/versions/anaconda3-2022.10/lib/python3.9/site-packages/matplotlib/axes/_base.py:75\u001b[0m, in \u001b[0;36m_axis_method_wrapper.__set_name__.<locals>.wrapper\u001b[0;34m(self, *args, **kwargs)\u001b[0m\n\u001b[1;32m     74\u001b[0m \u001b[39mdef\u001b[39;00m \u001b[39mwrapper\u001b[39m(\u001b[39mself\u001b[39m, \u001b[39m*\u001b[39margs, \u001b[39m*\u001b[39m\u001b[39m*\u001b[39mkwargs):\n\u001b[0;32m---> 75\u001b[0m     \u001b[39mreturn\u001b[39;00m get_method(\u001b[39mself\u001b[39;49m)(\u001b[39m*\u001b[39;49margs, \u001b[39m*\u001b[39;49m\u001b[39m*\u001b[39;49mkwargs)\n",
      "File \u001b[0;32m~/.pyenv/versions/anaconda3-2022.10/lib/python3.9/site-packages/matplotlib/axis.py:1798\u001b[0m, in \u001b[0;36mAxis._set_ticklabels\u001b[0;34m(self, labels, fontdict, minor, **kwargs)\u001b[0m\n\u001b[1;32m   1796\u001b[0m \u001b[39mif\u001b[39;00m fontdict \u001b[39mis\u001b[39;00m \u001b[39mnot\u001b[39;00m \u001b[39mNone\u001b[39;00m:\n\u001b[1;32m   1797\u001b[0m     kwargs\u001b[39m.\u001b[39mupdate(fontdict)\n\u001b[0;32m-> 1798\u001b[0m \u001b[39mreturn\u001b[39;00m \u001b[39mself\u001b[39;49m\u001b[39m.\u001b[39;49mset_ticklabels(labels, minor\u001b[39m=\u001b[39;49mminor, \u001b[39m*\u001b[39;49m\u001b[39m*\u001b[39;49mkwargs)\n",
      "File \u001b[0;32m~/.pyenv/versions/anaconda3-2022.10/lib/python3.9/site-packages/matplotlib/axis.py:1720\u001b[0m, in \u001b[0;36mAxis.set_ticklabels\u001b[0;34m(self, ticklabels, minor, **kwargs)\u001b[0m\n\u001b[1;32m   1716\u001b[0m \u001b[39mif\u001b[39;00m \u001b[39misinstance\u001b[39m(locator, mticker\u001b[39m.\u001b[39mFixedLocator):\n\u001b[1;32m   1717\u001b[0m     \u001b[39m# Passing [] as a list of ticklabels is often used as a way to\u001b[39;00m\n\u001b[1;32m   1718\u001b[0m     \u001b[39m# remove all tick labels, so only error for > 0 ticklabels\u001b[39;00m\n\u001b[1;32m   1719\u001b[0m     \u001b[39mif\u001b[39;00m \u001b[39mlen\u001b[39m(locator\u001b[39m.\u001b[39mlocs) \u001b[39m!=\u001b[39m \u001b[39mlen\u001b[39m(ticklabels) \u001b[39mand\u001b[39;00m \u001b[39mlen\u001b[39m(ticklabels) \u001b[39m!=\u001b[39m \u001b[39m0\u001b[39m:\n\u001b[0;32m-> 1720\u001b[0m         \u001b[39mraise\u001b[39;00m \u001b[39mValueError\u001b[39;00m(\n\u001b[1;32m   1721\u001b[0m             \u001b[39m\"\u001b[39m\u001b[39mThe number of FixedLocator locations\u001b[39m\u001b[39m\"\u001b[39m\n\u001b[1;32m   1722\u001b[0m             \u001b[39mf\u001b[39m\u001b[39m\"\u001b[39m\u001b[39m (\u001b[39m\u001b[39m{\u001b[39;00m\u001b[39mlen\u001b[39m(locator\u001b[39m.\u001b[39mlocs)\u001b[39m}\u001b[39;00m\u001b[39m), usually from a call to\u001b[39m\u001b[39m\"\u001b[39m\n\u001b[1;32m   1723\u001b[0m             \u001b[39m\"\u001b[39m\u001b[39m set_ticks, does not match\u001b[39m\u001b[39m\"\u001b[39m\n\u001b[1;32m   1724\u001b[0m             \u001b[39mf\u001b[39m\u001b[39m\"\u001b[39m\u001b[39m the number of ticklabels (\u001b[39m\u001b[39m{\u001b[39;00m\u001b[39mlen\u001b[39m(ticklabels)\u001b[39m}\u001b[39;00m\u001b[39m).\u001b[39m\u001b[39m\"\u001b[39m)\n\u001b[1;32m   1725\u001b[0m     tickd \u001b[39m=\u001b[39m {loc: lab \u001b[39mfor\u001b[39;00m loc, lab \u001b[39min\u001b[39;00m \u001b[39mzip\u001b[39m(locator\u001b[39m.\u001b[39mlocs, ticklabels)}\n\u001b[1;32m   1726\u001b[0m     func \u001b[39m=\u001b[39m functools\u001b[39m.\u001b[39mpartial(\u001b[39mself\u001b[39m\u001b[39m.\u001b[39m_format_with_dict, tickd)\n",
      "\u001b[0;31mValueError\u001b[0m: The number of FixedLocator locations (10), usually from a call to set_ticks, does not match the number of ticklabels (36637)."
     ]
    },
    {
     "data": {
      "image/png": "[encoded data removed]",
      "text/plain": [
       "<Figure size 3000x2400 with 1 Axes>"
      ]
     },
     "metadata": {},
     "output_type": "display_data"
    }
   ],
   "source": [
    "# Visualize feature scores of the features \n",
    "# Creating a seaborn bar plot\n",
    "\n",
    "import matplotlib.pyplot as plt\n",
    "import seaborn as sns\n",
    "\n",
    "f, ax = plt.subplots(figsize=(30, 24))\n",
    "ax = sns.barplot(x=feature_scores.head(10), y=feature_scores.head(10).index, data=df)\n",
    "ax.set_title(\"Visualize feature scores of the features\")\n",
    "ax.set_yticklabels(feature_scores.index)\n",
    "ax.set_xlabel(\"Feature importance score\")\n",
    "ax.set_ylabel(\"Features\")\n",
    "plt.show()"
   ]
  },
  {
   "cell_type": "code",
   "execution_count": 17,
   "id": "22a59345-0da3-4e39-99fb-c4122546696d",
   "metadata": {},
   "outputs": [],
   "source": [
    "### drop rest of column\n",
    "df_feature = df.drop(['login_timestamp','region', 'city', 'user_agent_string', 'browser'], axis=1)\n",
    "df_feature.to_csv('rba-dataset-feature.csv', index=False)"
   ]
  },
  {
   "cell_type": "code",
   "execution_count": 18,
   "id": "16df76fb-4292-4802-ac2f-865ad7315172",
   "metadata": {},
   "outputs": [
    {
     "data": {
      "text/plain": [
       "(30000, 5)"
      ]
     },
     "execution_count": 18,
     "metadata": {},
     "output_type": "execute_result"
    }
   ],
   "source": [
    "df_feature.shape"
   ]
  },
  {
   "cell_type": "code",
   "execution_count": null,
   "id": "14a8a7ef-33e4-467d-9ccf-c74e4d537f1e",
   "metadata": {},
   "outputs": [],
   "source": []
  }
 ],
 "metadata": {
  "kernelspec": {
   "display_name": "Python 3 (ipykernel)",
   "language": "python",
   "name": "python3"
  }
 },
 "nbformat": 4,
 "nbformat_minor": 5
}
